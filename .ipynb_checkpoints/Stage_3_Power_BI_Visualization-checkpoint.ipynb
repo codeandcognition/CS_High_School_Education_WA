{
 "cells": [
  {
   "cell_type": "markdown",
   "metadata": {},
   "source": [
    "# Stage 3: Power BI Visualization\n",
    "\n",
    "**Note: All Power BI files can be accessed in the `power_bi_files` folder.**\n",
    "\n",
    "## What is this stage about?\n",
    "In this stage, we are creating a Power BI report consisting of map visualizations showcasing which schools are teaching computer science, which are not teaching computer science and which schools do we have no information on. \n",
    "\n",
    "This report will be embedded into the [CS For All WA website](https://www.csforallwa.org). The purpose of us embedding it on this website is for the following scenarios:\n",
    "\n",
    " - Local or District or County Representative visiting the website to see if their city/district/county has schools teaching computer science\n",
    " \n",
    " - An organization or individual interested in participating in this initiative to learn more about the current state of computer science education in high schools in the state of Washington. \n",
    " \n",
    " - A student or parent to come and see if their school teaches computer science or not\n",
    " \n",
    "\n",
    "## Why Power BI? \n",
    "While Python does have data visualization packages such as altair, they are not as versatile and easy to use when collaborating. Power BI has the following advantages:\n",
    "\n",
    "- **Graphic User Interface** which is simple and easy to use. This helps when making small edits versus having to scroll through large chunks of code to make a small change. \n",
    "\n",
    "- **Easily create user facing filters** which some python packages do offer but are usually overly complex.\n",
    "\n",
    "- **Data can be refreshed quickly** without having to recreate the data visualizations all over again\n",
    "\n",
    "- **Multiple Embedding options** are easily available on Power BI.\n",
    "\n",
    "---\n",
    "\n",
    "\n",
    "The report will be created using the `wa_school_statistics_power_bi_viz.csv` file in the `data/visualization_data` path.\n",
    "\n",
    "It will consist of 4 pages: \n",
    "\n",
    "1. Cover Page with the Washington State Map\n",
    "2. Washington State Map with a list of the schools teaching and not teaching computer science\n",
    "3. County Map based of a user option with a list of the schools teaching and not teaching computer science\n",
    "4. Map of the Puget Sound Region with a list of the schools teaching and not teaching computer science\n",
    "\n",
    "To learn how to make this Power BI Visualization Report please go to the [OSPI Data Team Drive](https://drive.google.com/drive/u/1/folders/0ANGHjv7BqUe-Uk9PVA)\n",
    "\n",
    "![Power BI](images/Power_BI.jpg)"
   ]
  },
  {
   "cell_type": "markdown",
   "metadata": {},
   "source": [
    "# Bug Report Fixes"
   ]
  },
  {
   "cell_type": "markdown",
   "metadata": {},
   "source": [
    "## 1. Filter for Schools Not Teaching Computer Science De-Applied. \n",
    "\n",
    "### Details\n",
    "- Reported on October 12th by Zoshua Colah via Slack\n",
    "- Bug Solution proposed on October 22nd by Zoshua Colah (Amy has been notified)\n",
    "\n",
    "### Problem\n",
    "On Page 2 of the report, the total schools which don't teach computer science card should not read as 663. 663 is the total number of schools in Washington State. This issue has occurred on Page 2, 3, & 4.  It is showing the total schools on the map instead of the total schools not teaching computer science. \n",
    "\n",
    "### Solutions\n",
    "**Solution A**\n",
    "1. Go to app.powerbi.com & login using your UW NetID credentials. After inputting these correctly, the Power BI Home Dashboard will load.\n",
    "2. Select the CS_For_All_Washington_State_Report_13th_September\n",
    "3. Move your cursor to the bottom bar & select the second page of the report titled Washington State Overview\n",
    "4. Select the orange card in the top right hand corner.\n",
    "5. Ensure the filters panel is open.\n",
    "6. Go the fields panel (the rightmost panel) and drag the \"School Teaches Computer Science\" field into the filters panel. \n",
    "7. Select the Doesn't Teach Computer Science option and deselect any other option.   Once this is done, the total schools not teaching computer science should read as 143.\n",
    "8. Save the report.\n",
    "9. Next, go to pages 3 & 4 to repeat the same process. Alternatively, you could copy-paste the same tile you used & use it to replace the old tiles on pages 3 & 4 and it should work fine. Remember they are all interlinked if you do this.\n",
    "10. Save the report.\n",
    "11. To ensure this problem does not happen in the future we need to ensure no one has access to the filters panel on the published embed (aka the CS for All website).\n",
    "12. Go to the Google Sites page & select the embedded site & add this text (```?rs:Embed=True&filterPaneEnabled=False```) to end of the embed url.\n",
    "\n",
    "**Solution B**\n",
    "\n",
    "1. Go to a Windows Computer with Power BI already installed on it. If it is not installed you can download it from https://powerbi.microsoft.com.\n",
    "2. Sign In to Power BI using UW Net ID credentials\n",
    "3. Open the file `CS_For_All_Washington_State_Report_22nd_October_2019.pbix` in Power BI. This file can be found in the Power BI files folder. \n",
    "4. Select Publish Report to Power BI online\n",
    "5. Open Power BI Online (app.powerbi.com) in a web browser of your choice(I recommend Chrome)\n",
    "6. Log in to the Power BI online service with your UW NetID credentials\n",
    "7. You will then notice the report file on your dashboard. Open this file. It should load the report in this step.\n",
    "8. Go to the File Drop Down & select publish embed code.\n",
    "9. Copy the new embed URL (key is to use the URL not the code) generated.\n",
    "10. Go to the Google Sites & replace the old embed URL with the new one.\n",
    "11. Publish your changes to Google Sites."
   ]
  }
 ],
 "metadata": {
  "kernelspec": {
   "display_name": "Python 3",
   "language": "python",
   "name": "python3"
  },
  "language_info": {
   "codemirror_mode": {
    "name": "ipython",
    "version": 3
   },
   "file_extension": ".py",
   "mimetype": "text/x-python",
   "name": "python",
   "nbconvert_exporter": "python",
   "pygments_lexer": "ipython3",
   "version": "3.6.5"
  }
 },
 "nbformat": 4,
 "nbformat_minor": 2
}
