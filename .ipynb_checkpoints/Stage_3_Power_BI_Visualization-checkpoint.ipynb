{
 "cells": [
  {
   "cell_type": "markdown",
   "metadata": {},
   "source": [
    "# Stage 3: Power BI Visualization\n",
    "\n",
    "In this stage, we are creating a Power BI report consisting of map visualizations showcasing which schools are teaching computer science, which are not teaching computer science and which schools do we have no information on. \n",
    "\n",
    "The report will be created using the `wa_school_statistics_power_bi_viz.csv` file in the `data/visualization_data` path.\n",
    "\n",
    "It will consist of 4 pages: \n",
    "\n",
    "1. Cover Page with the Washington State Map\n",
    "2. Washington State Map with a list of the schools teaching and not teaching computer science\n",
    "3. County Map based of a user option with a list of the schools teaching and not teaching computer science\n",
    "4. Map of the Puget Sound Region with a list of the schools teaching and not teaching computer science\n",
    "\n",
    "To learn how to make this Power BI Visualization Report please go to the [OSPI Data Team Drive](https://drive.google.com/drive/u/1/folders/0ANGHjv7BqUe-Uk9PVA)\n",
    "\n",
    "![Power BI](images/Power_BI.jpg)"
   ]
  },
  {
   "cell_type": "code",
   "execution_count": null,
   "metadata": {},
   "outputs": [],
   "source": []
  }
 ],
 "metadata": {
  "kernelspec": {
   "display_name": "Python 3",
   "language": "python",
   "name": "python3"
  },
  "language_info": {
   "codemirror_mode": {
    "name": "ipython",
    "version": 3
   },
   "file_extension": ".py",
   "mimetype": "text/x-python",
   "name": "python",
   "nbconvert_exporter": "python",
   "pygments_lexer": "ipython3",
   "version": "3.6.5"
  }
 },
 "nbformat": 4,
 "nbformat_minor": 2
}
