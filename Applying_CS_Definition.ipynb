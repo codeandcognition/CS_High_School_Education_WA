{
 "cells": [
  {
   "cell_type": "code",
   "execution_count": 11,
   "metadata": {},
   "outputs": [],
   "source": [
    "#Setup (Importing Packages) \n",
    "import csv #to read in csv files\n",
    "import pandas as pd #for data wrangling\n",
    "import numpy as np \n",
    "import warnings"
   ]
  },
  {
   "cell_type": "code",
   "execution_count": 12,
   "metadata": {},
   "outputs": [],
   "source": [
    "#This is where you will want to change the file name for the State Course Codes\n",
    "#Heree is an example of where the 2017-2018 file path is for the state course codes: data/labelled_data/State_Course_Code_Data/2017-2018_State_Course_Codes.csv\n",
    "#but for the 2018-2019 data we change the file path to: \"data/labelled_data/State_Course_Code_Data/2018-2019_state_course_code_statistics.csv\"\n",
    "cip_courses  = pd.read_csv(\"data/labelled_data/State_Course_Code_Data/2018-2019_state_course_code_statistics.csv\")"
   ]
  },
  {
   "cell_type": "code",
   "execution_count": 13,
   "metadata": {
    "scrolled": false
   },
   "outputs": [
    {
     "data": {
      "text/html": [
       "<div>\n",
       "<style scoped>\n",
       "    .dataframe tbody tr th:only-of-type {\n",
       "        vertical-align: middle;\n",
       "    }\n",
       "\n",
       "    .dataframe tbody tr th {\n",
       "        vertical-align: top;\n",
       "    }\n",
       "\n",
       "    .dataframe thead th {\n",
       "        text-align: right;\n",
       "    }\n",
       "</style>\n",
       "<table border=\"1\" class=\"dataframe\">\n",
       "  <thead>\n",
       "    <tr style=\"text-align: right;\">\n",
       "      <th></th>\n",
       "      <th>DistrictCode</th>\n",
       "      <th>DistrictName</th>\n",
       "      <th>SchoolCode</th>\n",
       "      <th>SchoolName</th>\n",
       "      <th>term</th>\n",
       "      <th>StateCourseCode</th>\n",
       "      <th>courseTitle</th>\n",
       "      <th>letterGrade</th>\n",
       "      <th>count</th>\n",
       "      <th>CS_Courses</th>\n",
       "    </tr>\n",
       "  </thead>\n",
       "  <tbody>\n",
       "    <tr>\n",
       "      <th>0</th>\n",
       "      <td>1109</td>\n",
       "      <td>Washtucna School District</td>\n",
       "      <td>3075</td>\n",
       "      <td>Washtucna Elementary/High School</td>\n",
       "      <td>SEM1</td>\n",
       "      <td>10157</td>\n",
       "      <td>AP Computer Science A</td>\n",
       "      <td>A-</td>\n",
       "      <td>2</td>\n",
       "      <td></td>\n",
       "    </tr>\n",
       "    <tr>\n",
       "      <th>1</th>\n",
       "      <td>1109</td>\n",
       "      <td>Washtucna School District</td>\n",
       "      <td>3075</td>\n",
       "      <td>Washtucna Elementary/High School</td>\n",
       "      <td>SEM1</td>\n",
       "      <td>10157</td>\n",
       "      <td>AP Computer Science A</td>\n",
       "      <td>A</td>\n",
       "      <td>1</td>\n",
       "      <td></td>\n",
       "    </tr>\n",
       "    <tr>\n",
       "      <th>2</th>\n",
       "      <td>1109</td>\n",
       "      <td>Washtucna School District</td>\n",
       "      <td>3075</td>\n",
       "      <td>Washtucna Elementary/High School</td>\n",
       "      <td>SEM1</td>\n",
       "      <td>10157</td>\n",
       "      <td>COMPUTER SCI</td>\n",
       "      <td>A-</td>\n",
       "      <td>1</td>\n",
       "      <td></td>\n",
       "    </tr>\n",
       "    <tr>\n",
       "      <th>3</th>\n",
       "      <td>1109</td>\n",
       "      <td>Washtucna School District</td>\n",
       "      <td>3075</td>\n",
       "      <td>Washtucna Elementary/High School</td>\n",
       "      <td>SEM1</td>\n",
       "      <td>10157</td>\n",
       "      <td>COMPUTER SCI</td>\n",
       "      <td>B</td>\n",
       "      <td>1</td>\n",
       "      <td></td>\n",
       "    </tr>\n",
       "    <tr>\n",
       "      <th>4</th>\n",
       "      <td>1109</td>\n",
       "      <td>Washtucna School District</td>\n",
       "      <td>3075</td>\n",
       "      <td>Washtucna Elementary/High School</td>\n",
       "      <td>SEM2</td>\n",
       "      <td>10157</td>\n",
       "      <td>AP Computer Science A</td>\n",
       "      <td>A-</td>\n",
       "      <td>1</td>\n",
       "      <td></td>\n",
       "    </tr>\n",
       "  </tbody>\n",
       "</table>\n",
       "</div>"
      ],
      "text/plain": [
       "   DistrictCode               DistrictName  SchoolCode  \\\n",
       "0          1109  Washtucna School District        3075   \n",
       "1          1109  Washtucna School District        3075   \n",
       "2          1109  Washtucna School District        3075   \n",
       "3          1109  Washtucna School District        3075   \n",
       "4          1109  Washtucna School District        3075   \n",
       "\n",
       "                         SchoolName  term StateCourseCode  \\\n",
       "0  Washtucna Elementary/High School  SEM1           10157   \n",
       "1  Washtucna Elementary/High School  SEM1           10157   \n",
       "2  Washtucna Elementary/High School  SEM1           10157   \n",
       "3  Washtucna Elementary/High School  SEM1           10157   \n",
       "4  Washtucna Elementary/High School  SEM2           10157   \n",
       "\n",
       "             courseTitle letterGrade  count CS_Courses  \n",
       "0  AP Computer Science A          A-      2             \n",
       "1  AP Computer Science A          A       1             \n",
       "2           COMPUTER SCI          A-      1             \n",
       "3           COMPUTER SCI          B       1             \n",
       "4  AP Computer Science A          A-      1             "
      ]
     },
     "execution_count": 13,
     "metadata": {},
     "output_type": "execute_result"
    }
   ],
   "source": [
    "cip_courses[\"CS_Courses\"] = \"\"\n",
    "cip_courses.head(5)"
   ]
  },
  {
   "cell_type": "code",
   "execution_count": 14,
   "metadata": {
    "scrolled": true
   },
   "outputs": [],
   "source": [
    "cs_courses = []\n",
    "#The 2017-2018 data the loop was \"for x in cip_courses[\"code\"]\" this is because the state course code lived in the code column\n",
    "#You will want to change the loop to loop through whatever column has the state course codes.\n",
    "#For 2018-2019 data the state course codes live in the StateCourseCode colum so change the loop to \"for x in cip_courses[\"StateCourseCode\"]\"\n",
    "for x in cip_courses[\"StateCourseCode\"]:\n",
    "#the numbers represent state course codes that classify a class as being a computer Science class.\n",
    "#If the the definition changes next year all you have to do is add or remove the numbers based on whether or not they are state course codes\n",
    "    if x == '10011' or x == '10012' or x == '10013' or x == '10014' or x == '10015' or x == '10016' or x == '10019' or x == '10020' or x == '10052' or x == '10053' or  x == '10054' or x == '10097'or x == '10098' or x == '10099' or x == '10101' or x == '10102' or x == '10108' or x == '10109' or x == '10148' or x == '10149' or x == '10152' or x == '10153' or x == '10154' or x == '10155' or x == '10156' or x == '10157' or x == '10159' or x == '10160' or x == '10197' or x == '10198' or x == '10199' or x == '10201' or x == '10203' or x == '10205' or x == '10206' or x == '10251' or x == '10253' or x == '10254' or x == '10297' or x == '10298' or x == '10301':\n",
    "        cs_courses.append(\"yes\")\n",
    "    else:\n",
    "        cs_courses.append(\"no\")\n",
    "cip_courses[\"CS_Courses\"] = cs_courses"
   ]
  },
  {
   "cell_type": "code",
   "execution_count": 15,
   "metadata": {},
   "outputs": [],
   "source": [
    "#make sure you read the file to the same one as above. As per the example, data/original_data/State_Course_Code_Data/State_Course_Codes.csv\n",
    "#then for 2019 it would be: \"data/labelled_data/State_Course_Code_Data/state_course_code_statistics_2019.csv\"\n",
    "cip_courses.to_csv(\"data/labelled_data/State_Course_Code_Data/2018-2019_state_course_code_statistics.csv\", index = False, header=True)"
   ]
  },
  {
   "cell_type": "code",
   "execution_count": null,
   "metadata": {},
   "outputs": [],
   "source": []
  }
 ],
 "metadata": {
  "kernelspec": {
   "display_name": "Python 3",
   "language": "python",
   "name": "python3"
  },
  "language_info": {
   "codemirror_mode": {
    "name": "ipython",
    "version": 3
   },
   "file_extension": ".py",
   "mimetype": "text/x-python",
   "name": "python",
   "nbconvert_exporter": "python",
   "pygments_lexer": "ipython3",
   "version": "3.7.6"
  }
 },
 "nbformat": 4,
 "nbformat_minor": 4
}
