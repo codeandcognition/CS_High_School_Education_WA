{
 "cells": [
  {
   "cell_type": "markdown",
   "metadata": {},
   "source": [
    "## Applying CS Definitions\n",
    "\n",
    "This notebook contains the code to assign each course a value in the CS_Courses column. The values are 'yes' if the course is considered a CS course, or 'no' if the course is not considered a CS course. The values of 'yes' and 'no' are applied based on the digits in the StateCourseCode column. These digits are based off of OSPI CS guidance.\n",
    "\n",
    "The example in this notebook is for 2018-2019 state course code data, but can be applied to other years if the file path is changed. The file path in this notebook is data/labelled_data/State_Course_Code_Data/2018-2019_state_course_code_statistics.csv"
   ]
  },
  {
   "cell_type": "code",
   "execution_count": 11,
   "metadata": {},
   "outputs": [],
   "source": [
    "#Setup (Importing Packages) \n",
    "import csv #to read in csv files\n",
    "import pandas as pd #for data wrangling\n",
    "import numpy as np \n",
    "import warnings"
   ]
  },
  {
   "cell_type": "markdown",
   "metadata": {},
   "source": [
    "## Step 1\n",
    "\n",
    "In this step we are importing the `2018-2019_state_course_code_statistics.csv` using the read_csv method of the Pandas package and saving it as a dataframe.\n",
    "\n",
    "This dataframe is a list of state course code courses taught at schools in the state of Washington."
   ]
  },
  {
   "cell_type": "code",
   "execution_count": 12,
   "metadata": {},
   "outputs": [],
   "source": [
    "#Importing and Saving Student Results for State Courses\n",
    "#Note: this is where you will want to change the file name for the new State Course Code Student Results Dataset\n",
    "cip_courses  = pd.read_csv(\"data/labelled_data/State_Course_Code_Data/2018-2019_state_course_code_statistics.csv\")"
   ]
  },
  {
   "cell_type": "markdown",
   "metadata": {},
   "source": [
    "## Step 2\n",
    "\n",
    "In this step we are adding a column called \"CS_Courses\"."
   ]
  },
  {
   "cell_type": "code",
   "execution_count": 13,
   "metadata": {
    "scrolled": false
   },
   "outputs": [
    {
     "data": {
      "text/html": [
       "<div>\n",
       "<style scoped>\n",
       "    .dataframe tbody tr th:only-of-type {\n",
       "        vertical-align: middle;\n",
       "    }\n",
       "\n",
       "    .dataframe tbody tr th {\n",
       "        vertical-align: top;\n",
       "    }\n",
       "\n",
       "    .dataframe thead th {\n",
       "        text-align: right;\n",
       "    }\n",
       "</style>\n",
       "<table border=\"1\" class=\"dataframe\">\n",
       "  <thead>\n",
       "    <tr style=\"text-align: right;\">\n",
       "      <th></th>\n",
       "      <th>DistrictCode</th>\n",
       "      <th>DistrictName</th>\n",
       "      <th>SchoolCode</th>\n",
       "      <th>SchoolName</th>\n",
       "      <th>term</th>\n",
       "      <th>StateCourseCode</th>\n",
       "      <th>courseTitle</th>\n",
       "      <th>letterGrade</th>\n",
       "      <th>count</th>\n",
       "      <th>CS_Courses</th>\n",
       "    </tr>\n",
       "  </thead>\n",
       "  <tbody>\n",
       "    <tr>\n",
       "      <th>0</th>\n",
       "      <td>1109</td>\n",
       "      <td>Washtucna School District</td>\n",
       "      <td>3075</td>\n",
       "      <td>Washtucna Elementary/High School</td>\n",
       "      <td>SEM1</td>\n",
       "      <td>10157</td>\n",
       "      <td>AP Computer Science A</td>\n",
       "      <td>A-</td>\n",
       "      <td>2</td>\n",
       "      <td></td>\n",
       "    </tr>\n",
       "    <tr>\n",
       "      <th>1</th>\n",
       "      <td>1109</td>\n",
       "      <td>Washtucna School District</td>\n",
       "      <td>3075</td>\n",
       "      <td>Washtucna Elementary/High School</td>\n",
       "      <td>SEM1</td>\n",
       "      <td>10157</td>\n",
       "      <td>AP Computer Science A</td>\n",
       "      <td>A</td>\n",
       "      <td>1</td>\n",
       "      <td></td>\n",
       "    </tr>\n",
       "    <tr>\n",
       "      <th>2</th>\n",
       "      <td>1109</td>\n",
       "      <td>Washtucna School District</td>\n",
       "      <td>3075</td>\n",
       "      <td>Washtucna Elementary/High School</td>\n",
       "      <td>SEM1</td>\n",
       "      <td>10157</td>\n",
       "      <td>COMPUTER SCI</td>\n",
       "      <td>A-</td>\n",
       "      <td>1</td>\n",
       "      <td></td>\n",
       "    </tr>\n",
       "    <tr>\n",
       "      <th>3</th>\n",
       "      <td>1109</td>\n",
       "      <td>Washtucna School District</td>\n",
       "      <td>3075</td>\n",
       "      <td>Washtucna Elementary/High School</td>\n",
       "      <td>SEM1</td>\n",
       "      <td>10157</td>\n",
       "      <td>COMPUTER SCI</td>\n",
       "      <td>B</td>\n",
       "      <td>1</td>\n",
       "      <td></td>\n",
       "    </tr>\n",
       "    <tr>\n",
       "      <th>4</th>\n",
       "      <td>1109</td>\n",
       "      <td>Washtucna School District</td>\n",
       "      <td>3075</td>\n",
       "      <td>Washtucna Elementary/High School</td>\n",
       "      <td>SEM2</td>\n",
       "      <td>10157</td>\n",
       "      <td>AP Computer Science A</td>\n",
       "      <td>A-</td>\n",
       "      <td>1</td>\n",
       "      <td></td>\n",
       "    </tr>\n",
       "  </tbody>\n",
       "</table>\n",
       "</div>"
      ],
      "text/plain": [
       "   DistrictCode               DistrictName  SchoolCode  \\\n",
       "0          1109  Washtucna School District        3075   \n",
       "1          1109  Washtucna School District        3075   \n",
       "2          1109  Washtucna School District        3075   \n",
       "3          1109  Washtucna School District        3075   \n",
       "4          1109  Washtucna School District        3075   \n",
       "\n",
       "                         SchoolName  term StateCourseCode  \\\n",
       "0  Washtucna Elementary/High School  SEM1           10157   \n",
       "1  Washtucna Elementary/High School  SEM1           10157   \n",
       "2  Washtucna Elementary/High School  SEM1           10157   \n",
       "3  Washtucna Elementary/High School  SEM1           10157   \n",
       "4  Washtucna Elementary/High School  SEM2           10157   \n",
       "\n",
       "             courseTitle letterGrade  count CS_Courses  \n",
       "0  AP Computer Science A          A-      2             \n",
       "1  AP Computer Science A          A       1             \n",
       "2           COMPUTER SCI          A-      1             \n",
       "3           COMPUTER SCI          B       1             \n",
       "4  AP Computer Science A          A-      1             "
      ]
     },
     "execution_count": 13,
     "metadata": {},
     "output_type": "execute_result"
    }
   ],
   "source": [
    "cip_courses[\"CS_Courses\"] = \"\"\n",
    "cip_courses.head(5)"
   ]
  },
  {
   "cell_type": "markdown",
   "metadata": {},
   "source": [
    "## Step 3\n",
    "\n",
    "In this step we are adding definitions to the CS_Courses column based on the values in the StateCourseCode column in accordance with OSPI CS guidance."
   ]
  },
  {
   "cell_type": "code",
   "execution_count": 14,
   "metadata": {
    "scrolled": true
   },
   "outputs": [],
   "source": [
    "cs_courses = []\n",
    "#Running a loop through the state course codes\n",
    "#Note: this is where you will want to change the column name if the state course codes are found in a different column for a different dataset\n",
    "for x in cip_courses[\"StateCourseCode\"]:\n",
    "#The numbers represent state course codes that classify a course as being a CS course or not.\n",
    "#Note: these digits are based on the OSPI CS guidance. If those change change then these numbers must be edited.\n",
    "    if x == '10011' or x == '10012' or x == '10013' or x == '10014' or x == '10015' or x == '10016' or x == '10019' or x == '10020' or x == '10052' or x == '10053' or  x == '10054' or x == '10097'or x == '10098' or x == '10099' or x == '10101' or x == '10102' or x == '10108' or x == '10109' or x == '10148' or x == '10149' or x == '10152' or x == '10153' or x == '10154' or x == '10155' or x == '10156' or x == '10157' or x == '10159' or x == '10160' or x == '10197' or x == '10198' or x == '10199' or x == '10201' or x == '10203' or x == '10205' or x == '10206' or x == '10251' or x == '10253' or x == '10254' or x == '10297' or x == '10298' or x == '10301':\n",
    "        cs_courses.append(\"yes\")\n",
    "    else:\n",
    "        cs_courses.append(\"no\")\n",
    "cip_courses[\"CS_Courses\"] = cs_courses"
   ]
  },
  {
   "cell_type": "markdown",
   "metadata": {},
   "source": [
    "## Step 4\n",
    "\n",
    "In this step you are saving and writing the dataset to the same folder."
   ]
  },
  {
   "cell_type": "code",
   "execution_count": 15,
   "metadata": {},
   "outputs": [],
   "source": [
    "#Writing the dataset to the same folder\n",
    "#Note: this is where you will want to change the file name for the new State Course Code Student Results Dataset\n",
    "cip_courses.to_csv(\"data/labelled_data/State_Course_Code_Data/2018-2019_state_course_code_statistics.csv\", index = False, header=True)"
   ]
  }
 ],
 "metadata": {
  "kernelspec": {
   "display_name": "Python 3",
   "language": "python",
   "name": "python3"
  },
  "language_info": {
   "codemirror_mode": {
    "name": "ipython",
    "version": 3
   },
   "file_extension": ".py",
   "mimetype": "text/x-python",
   "name": "python",
   "nbconvert_exporter": "python",
   "pygments_lexer": "ipython3",
   "version": "3.7.6"
  }
 },
 "nbformat": 4,
 "nbformat_minor": 4
}
