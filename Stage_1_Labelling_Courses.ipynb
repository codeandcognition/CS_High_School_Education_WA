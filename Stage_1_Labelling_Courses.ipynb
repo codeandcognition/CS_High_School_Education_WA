{
 "cells": [
  {
   "cell_type": "markdown",
   "metadata": {},
   "source": [
    "# Stage 1: Labelling Courses\n",
    "\n",
    "This notebook contains the instructions to label the courses as Computer Science or Non Computer Science courses. The same steps mentioned in this notebook were used to label the course statistic files of 2017 saved in the \n",
    "`data/labelled_data/` path. \n",
    "\n",
    "These instructions will be of help when you want to label course data for future years. The original file format provided by OSPI may slightly change but this is a good reference point to see our method. "
   ]
  },
  {
   "cell_type": "markdown",
   "metadata": {},
   "source": [
    "## Part 1: Labelling the CIP Course Code Courses\n",
    "\n",
    "In this part, we are going to label courses as Computer Science or Non-Computer Science courses.\n",
    "\n",
    "1. Go to the `data/original_data/CIP_data` path in the `CS_High_School_Education_WA Folder` you downloaded. \n",
    "![CIP Courses labelled](images/CIP_Original_Data_Finder.jpg)\n",
    "\n",
    "\n",
    "2. Open the `20190212_CipCode_Shannon Thissen.xlsx` file in Microsoft Excel. Read the Sheet called Note. This is to ensure you are informed about the dataset you are working with. \n",
    "\n",
    "![CIP Shanon Thiesen Excel File Note Sheet](images/Cip_Code_Shannon_Thissen_Note.jpg)\n",
    "\n",
    "\n",
    "3. Go to the `cipcode courseTitle letterGrade sheet`.\n",
    "![Cip Code letterGrade Sheet](images/CipCodeShannonThissencipcodecourseTitleletterGradeSheet.jpg)\n",
    "\n",
    "\n",
    "4. Go to file and click on Save As and save this file as a Comma Seperated Value file in the `data/labelled_data/CIP_Data` path with the following file name `cip_course_statistics_2017.csv`. \n",
    "\n",
    "![Save as CSV CIP Course Statistics](images/save_as_csv_cip_course_statistics.jpg)\n",
    "\n",
    "5. Open the `cip_course_statistics_2017.csv` file in a new Excel window.\n",
    "\n",
    "![Open CIP Course Statistics](images/CIP_Course_Statistics_Opened.jpg)\n",
    "\n",
    "6. Add a column called `cs_course`. This column will contain values for each course which label the course as either a CS or a Non-CS course. \n",
    "\n",
    "![CIP add column](images/add_column_to_cip_statistics.jpg)\n",
    "\n",
    "7. \n",
    "    a. Create a definition of what classifies a class a Computer Science course. *In our case, we considered any course which teaches programming (or a programming language) as a computer science course. This meant that we excluded video game design courses and web design courses. This definition may change though in the near future.*\n",
    "\n",
    "    b. Using the defintion you made, start to label whether a course is a cs_course, with either a \"yes\" or a \"no\" value. Don't forget to save your file as you progress downwards. \n",
    "    \n",
    "    c. Once you complete labelling all the courses, save the file. \n",
    "    \n",
    "    d. Do a check to see that you have labelled each course. Your spread sheet should look similar to the one below (Note: the cs_course column is highlighted for better understanding). \n",
    "\n",
    "![CIP Courses labelled](images/CIP_Course_Data.jpg)\n",
    "\n",
    "8. Save the file (`cip_course_statistics_2017`) and close it. "
   ]
  },
  {
   "cell_type": "markdown",
   "metadata": {},
   "source": [
    "## Part 2: Labelling the State Course Code Courses\n",
    "\n",
    "Similar to how we labelled the CIP Course Code classes, we will now label the State Course Code Courses as either computer science courses or non-computer science courses. \n",
    "\n",
    "1. Go to the `data/original_data/State_Course_Code_Data` path in the `CS_High_School_Education_WA Folder` you downloaded. \n",
    "\n",
    "![State Course Code Finder](images/State_Course_Code_Finder.jpg)\n",
    "\n",
    "2. Open the `20190213_StateCourseCode_Shannon Thissen.xlsx` file in Microsoft Excel. Read the sheet called Note. This is to ensure you are informed about the dataset you are working with. \n",
    "\n",
    "![State Course Code Note Sheet](images/State_Course_Code_Note.jpg)\n",
    "\n",
    "3. Go to the `stateCourseCodeId letterGrade sheet`.\n",
    "![State Course Code Letter Grade Sheet](images/State_Course_Code_Letter_Grade_Sheet.jpg)\n",
    "\n",
    "4. Go to file and click on Save As and save this file as a Comma Seperated Value file in the `data/labelled_data/State_Course_Code_Data` path with the following file name `state_course_code_course_statistics_2017.csv`.\n",
    "\n",
    "![Save as ](images/save_as_scc.jpg)\n",
    "\n",
    "5. Open the `state_course_code_course_statistics_2017.csv` file in a new Excel window.\n",
    "\n",
    "![Open State Course Code Course Statistics](images/open_scc.jpg)\n",
    "\n",
    "6. Create a column `cs_course`. This column will contain values for each course which label the course as either a CS or a Non-CS course. \n",
    "\n",
    "![Create CS Column for SCC Courses](images/scc_create_cs_column.jpg)\n",
    "\n",
    "7. \n",
    "    a. Using the defintion of Computer Science you made, start to label whether a course is a cs_course, with either a \"yes\" or a \"no\" value. Don't forget to save your file as you progress downwards. \n",
    "    \n",
    "    b. Once you complete labelling all the courses, save the file. \n",
    "    \n",
    "    c. Do a check to see that you have labelled each course. Your spread sheet should look similar to the one below (Note: the cs_course column is highlighted for better understanding). \n",
    "\n",
    "![Fill in CS Column for SCC Courses](images/fill_scc_cs_column.jpg)\n",
    "\n",
    "8. Save the file and close."
   ]
  },
  {
   "cell_type": "markdown",
   "metadata": {},
   "source": [
    "## Part 3: Saving the GeoCode and High School Data"
   ]
  },
  {
   "cell_type": "code",
   "execution_count": null,
   "metadata": {},
   "outputs": [],
   "source": []
  }
 ],
 "metadata": {
  "kernelspec": {
   "display_name": "Python 3",
   "language": "python",
   "name": "python3"
  },
  "language_info": {
   "codemirror_mode": {
    "name": "ipython",
    "version": 3
   },
   "file_extension": ".py",
   "mimetype": "text/x-python",
   "name": "python",
   "nbconvert_exporter": "python",
   "pygments_lexer": "ipython3",
   "version": "3.6.5"
  }
 },
 "nbformat": 4,
 "nbformat_minor": 2
}
