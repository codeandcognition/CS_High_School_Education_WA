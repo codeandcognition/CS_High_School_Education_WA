{
 "cells": [
  {
   "cell_type": "markdown",
   "metadata": {},
   "source": [
    "# Stage 3: Power BI Visualization\n",
    "\n",
    "## What is this stage about?\n",
    "In this stage, we are creating a Power BI report consisting of map visualizations showcasing which schools are teaching computer science, which are not teaching computer science and which schools do we have no information on. \n",
    "\n",
    "This report will be embedded into the [CS For All WA website](https://www.csforallwa.org). The purpose of us embedding it on this website is for the following scenarios:\n",
    "\n",
    " - Local or District or County Representative visiting the website to see if their city/district/county has schools teaching computer science\n",
    " \n",
    " - An organization or individual interested in participating in this initiative to learn more about the current state of computer science education in high schools in the state of Washington. \n",
    " \n",
    " - A student or parent to come and see if their school teaches computer science or not\n",
    " \n",
    "\n",
    "## Why Power BI? \n",
    "While Python does have data visualization packages such as altair, they are not as versatile and easy to use when collaborating. Power BI has the following advantages:\n",
    "\n",
    "- **Graphic User Interface** which is simple and easy to use. This helps when making small edits versus having to scroll through large chunks of code to make a small change. \n",
    "\n",
    "- **Easily create user facing filters** which some python packages do offer but are usually overly complex.\n",
    "\n",
    "- **Data can be refreshed quickly** without having to recreate the data visualizations all over again\n",
    "\n",
    "- **Multiple Embedding options** are easily available on Power BI.\n",
    "\n",
    "---\n",
    "\n",
    "\n",
    "The report will be created using the `wa_school_statistics_power_bi_viz.csv` file in the `data/visualization_data` path.\n",
    "\n",
    "It will consist of 4 pages: \n",
    "\n",
    "1. Cover Page with the Washington State Map\n",
    "2. Washington State Map with a list of the schools teaching and not teaching computer science\n",
    "3. County Map based of a user option with a list of the schools teaching and not teaching computer science\n",
    "4. Map of the Puget Sound Region with a list of the schools teaching and not teaching computer science\n",
    "\n",
    "To learn how to make this Power BI Visualization Report please go to the [OSPI Data Team Drive](https://drive.google.com/drive/u/1/folders/0ANGHjv7BqUe-Uk9PVA)\n",
    "\n",
    "![Power BI](images/Power_BI.jpg)"
   ]
  }
 ],
 "metadata": {
  "kernelspec": {
   "display_name": "Python 3",
   "language": "python",
   "name": "python3"
  },
  "language_info": {
   "codemirror_mode": {
    "name": "ipython",
    "version": 3
   },
   "file_extension": ".py",
   "mimetype": "text/x-python",
   "name": "python",
   "nbconvert_exporter": "python",
   "pygments_lexer": "ipython3",
   "version": "3.6.5"
  }
 },
 "nbformat": 4,
 "nbformat_minor": 2
}
