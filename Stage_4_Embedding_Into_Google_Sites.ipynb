{
 "cells": [
  {
   "cell_type": "markdown",
   "metadata": {},
   "source": [
    "# Stage 4: Embedding Power BI report into Google Sites\n",
    "\n",
    "In this stage, we are going to embed the [Power BI report](https://app.powerbi.com/reportEmbed?reportId=d6e4af0c-e272-441e-a724-e0c6ae1376dd&autoAuth=true&ctid=f6b6dd5b-f02f-441a-99a0-162ac5060bd2&config=eyJjbHVzdGVyVXJsIjoiaHR0cHM6Ly93YWJpLXdlc3QtdXMtcmVkaXJlY3QuYW5hbHlzaXMud2luZG93cy5uZXQifQ%3D%3D) made by us in Stage 3 into Google Sites. To learn how to do this please go to the [OSPI Data Team Drive](https://drive.google.com/drive/u/1/folders/0ANGHjv7BqUe-Uk9PVA) and watch the How to Embed into Google Sites video.\n",
    "\n",
    "Below are text instructions on how to do this. \n",
    "\n",
    "1. Go to the Power BI Report created by you.\n",
    "2. In the top left hand corner click on file and select Publish to Web. If this is your first time clicking on Publish to Web, it will ask you are you sure (click on Yes) and proceed. It will then generate a URL and an embed code. We are going to use the URL as it is compatible with Google Sites. *Copy this url to your clipboard!*.\n",
    "3. Open the CS For All Google sites file shared to you by [Andy Ko](ajko@uw.edu)\n",
    "4. Go to the Right Panel and click on Pages.\n",
    "5. Select the \"For All?\" Page.\n",
    "6. On the for all page, scroll all the way down to the short description written about our data exploration. \n",
    "7. In the right panel, click on Add.\n",
    "8. Select the embed tile and then paste the URL you copied earlier into the By URL option.\n",
    "9. Select okay and resize it such that the height increases and the margins of the report match that of the website.\n",
    "\n",
    "![Google Sites](images/Google_Sites.jpg)\n"
   ]
  },
  {
   "cell_type": "code",
   "execution_count": null,
   "metadata": {},
   "outputs": [],
   "source": []
  }
 ],
 "metadata": {
  "kernelspec": {
   "display_name": "Python 3",
   "language": "python",
   "name": "python3"
  },
  "language_info": {
   "codemirror_mode": {
    "name": "ipython",
    "version": 3
   },
   "file_extension": ".py",
   "mimetype": "text/x-python",
   "name": "python",
   "nbconvert_exporter": "python",
   "pygments_lexer": "ipython3",
   "version": "3.6.5"
  }
 },
 "nbformat": 4,
 "nbformat_minor": 2
}
